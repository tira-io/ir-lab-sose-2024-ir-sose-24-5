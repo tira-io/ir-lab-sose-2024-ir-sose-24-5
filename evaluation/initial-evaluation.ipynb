{
 "cells": [
  {
   "cell_type": "code",
   "execution_count": 2,
   "metadata": {},
   "outputs": [],
   "source": [
    "# Imports\n",
    "from tira.third_party_integrations import ensure_pyterrier_is_loaded, persist_and_normalize_run\n",
    "from tira.rest_api_client import Client\n",
    "import pyterrier as pt"
   ]
  },
  {
   "cell_type": "code",
   "execution_count": 3,
   "metadata": {},
   "outputs": [
    {
     "name": "stderr",
     "output_type": "stream",
     "text": [
      "PyTerrier 0.10.0 has loaded Terrier 5.8 (built by craigm on 2023-11-01 18:05) and terrier-helper 0.0.8\n",
      "\n",
      "No etc/terrier.properties, using terrier.default.properties for bootstrap configuration.\n"
     ]
    }
   ],
   "source": [
    "# Create a REST client to the TIRA platform for retrieving the pre-indexed data.\n",
    "ensure_pyterrier_is_loaded()\n",
    "tira = Client()"
   ]
  },
  {
   "cell_type": "code",
   "execution_count": 4,
   "metadata": {},
   "outputs": [],
   "source": [
    "# The dataset: the union of the IR Anthology and the ACL Anthology\n",
    "# This line creates an IRDSDataset object and registers it under the name provided as an argument.\n",
    "pt_dataset = pt.get_dataset('irds:ir-lab-sose-2024/ir-acl-anthology-20240504-training')\n"
   ]
  },
  {
   "cell_type": "code",
   "execution_count": 20,
   "metadata": {},
   "outputs": [
    {
     "name": "stdout",
     "output_type": "stream",
     "text": [
      "There are multiple query fields available: ('text', 'title', 'query', 'description', 'narrative'). To use with pyterrier, provide variant or modify dataframe to add query column.\n"
     ]
    },
    {
     "data": {
      "text/html": [
       "<div>\n",
       "<style scoped>\n",
       "    .dataframe tbody tr th:only-of-type {\n",
       "        vertical-align: middle;\n",
       "    }\n",
       "\n",
       "    .dataframe tbody tr th {\n",
       "        vertical-align: top;\n",
       "    }\n",
       "\n",
       "    .dataframe thead th {\n",
       "        text-align: right;\n",
       "    }\n",
       "</style>\n",
       "<table border=\"1\" class=\"dataframe\">\n",
       "  <thead>\n",
       "    <tr style=\"text-align: right;\">\n",
       "      <th></th>\n",
       "      <th>name</th>\n",
       "      <th>ndcg_cut_5</th>\n",
       "      <th>ndcg_cut.10</th>\n",
       "      <th>recip_rank</th>\n",
       "      <th>recall_1000</th>\n",
       "    </tr>\n",
       "  </thead>\n",
       "  <tbody>\n",
       "    <tr>\n",
       "      <th>0</th>\n",
       "      <td>BM25</td>\n",
       "      <td>0.393650</td>\n",
       "      <td>0.374041</td>\n",
       "      <td>0.579877</td>\n",
       "      <td>0.825376</td>\n",
       "    </tr>\n",
       "    <tr>\n",
       "      <th>1</th>\n",
       "      <td>QE</td>\n",
       "      <td>0.381675</td>\n",
       "      <td>0.378220</td>\n",
       "      <td>0.571535</td>\n",
       "      <td>0.833643</td>\n",
       "    </tr>\n",
       "    <tr>\n",
       "      <th>2</th>\n",
       "      <td>QE_2</td>\n",
       "      <td>0.383947</td>\n",
       "      <td>0.379452</td>\n",
       "      <td>0.565090</td>\n",
       "      <td>0.831915</td>\n",
       "    </tr>\n",
       "    <tr>\n",
       "      <th>3</th>\n",
       "      <td>QE_3</td>\n",
       "      <td>0.341725</td>\n",
       "      <td>0.333132</td>\n",
       "      <td>0.556066</td>\n",
       "      <td>0.825062</td>\n",
       "    </tr>\n",
       "    <tr>\n",
       "      <th>4</th>\n",
       "      <td>QE_4</td>\n",
       "      <td>0.381893</td>\n",
       "      <td>0.376701</td>\n",
       "      <td>0.572761</td>\n",
       "      <td>0.832052</td>\n",
       "    </tr>\n",
       "    <tr>\n",
       "      <th>5</th>\n",
       "      <td>QE_GPT_COT</td>\n",
       "      <td>0.320591</td>\n",
       "      <td>0.305605</td>\n",
       "      <td>0.524838</td>\n",
       "      <td>0.825698</td>\n",
       "    </tr>\n",
       "    <tr>\n",
       "      <th>6</th>\n",
       "      <td>QE_GPT_SQ_FS</td>\n",
       "      <td>0.398788</td>\n",
       "      <td>0.377988</td>\n",
       "      <td>0.615292</td>\n",
       "      <td>0.835660</td>\n",
       "    </tr>\n",
       "    <tr>\n",
       "      <th>7</th>\n",
       "      <td>QE_GPT_SQ_FZ</td>\n",
       "      <td>0.397821</td>\n",
       "      <td>0.364157</td>\n",
       "      <td>0.644563</td>\n",
       "      <td>0.829955</td>\n",
       "    </tr>\n",
       "  </tbody>\n",
       "</table>\n",
       "</div>"
      ],
      "text/plain": [
       "           name  ndcg_cut_5  ndcg_cut.10  recip_rank  recall_1000\n",
       "0          BM25    0.393650     0.374041    0.579877     0.825376\n",
       "1            QE    0.381675     0.378220    0.571535     0.833643\n",
       "2          QE_2    0.383947     0.379452    0.565090     0.831915\n",
       "3          QE_3    0.341725     0.333132    0.556066     0.825062\n",
       "4          QE_4    0.381893     0.376701    0.572761     0.832052\n",
       "5    QE_GPT_COT    0.320591     0.305605    0.524838     0.825698\n",
       "6  QE_GPT_SQ_FS    0.398788     0.377988    0.615292     0.835660\n",
       "7  QE_GPT_SQ_FZ    0.397821     0.364157    0.644563     0.829955"
      ]
     },
     "execution_count": 20,
     "metadata": {},
     "output_type": "execute_result"
    }
   ],
   "source": [
    "# This assumes we have execited the ../baseline-retrieval-system/baseline-retrieval-system.ipynb notebook before.\n",
    "bm25 = pt.io.read_results('../runs/base/run.txt')\n",
    "qe = pt.io.read_results('../runs/qe/run.txt')\n",
    "qe_2 = pt.io.read_results('../runs/qe_2/run.txt')\n",
    "qe_3 = pt.io.read_results('../runs/qe_3/run.txt')\n",
    "qe_4 = pt.io.read_results('../runs/qe_4/run.txt')\n",
    "qe_gpt_cot = pt.io.read_results('../runs/qe_gpt_cot/run.txt')\n",
    "qe_gpt_sq_fs = pt.io.read_results('../runs/qe_gpt_sq_fs/run.txt')\n",
    "qe_gpt_sq_fz = pt.io.read_results('../runs/qe_gpt_sq_fz/run.txt')\n",
    "\n",
    "pt.Experiment(\n",
    "    [bm25, qe, qe_2, qe_3, qe_4, qe_gpt_cot, qe_gpt_sq_fs, qe_gpt_sq_fz],\n",
    "    names=['BM25','QE', 'QE_2', 'QE_3', 'QE_4', 'QE_GPT_COT', 'QE_GPT_SQ_FS','QE_GPT_SQ_FZ'],\n",
    "    topics=pt_dataset.get_topics(),\n",
    "    qrels=pt_dataset.get_qrels(),\n",
    "    eval_metrics=[\"ndcg_cut_5\", \"ndcg_cut.10\", \"recip_rank\", \"recall_1000\"]\n",
    ")"
   ]
  }
 ],
 "metadata": {
  "kernelspec": {
   "display_name": "Python 3",
   "language": "python",
   "name": "python3"
  },
  "language_info": {
   "codemirror_mode": {
    "name": "ipython",
    "version": 3
   },
   "file_extension": ".py",
   "mimetype": "text/x-python",
   "name": "python",
   "nbconvert_exporter": "python",
   "pygments_lexer": "ipython3",
   "version": "3.10.12"
  }
 },
 "nbformat": 4,
 "nbformat_minor": 2
}
